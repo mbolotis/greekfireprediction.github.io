{
 "cells": [
  {
   "cell_type": "code",
   "execution_count": 1,
   "metadata": {
    "collapsed": true
   },
   "outputs": [],
   "source": [
    "import pandas as pd\n"
   ]
  },
  {
   "cell_type": "code",
   "execution_count": 2,
   "outputs": [],
   "source": [
    "fire_columns = ['AREA', 'PREFECTURE', 'START_YEAR', 'START_MONTH', 'START_DAY', 'START_HOUR', 'START_MINUTE', 'START_TIME', 'FOREST_AREA']\n",
    "fire_data = pd.read_pickle('C:\\\\Users\\\\hppc\\\\Desktop\\\\GitHub\\\\wildfire_prediction\\\\data\\\\fire_data.pkl')\n",
    "fire_data = fire_data.filter(fire_columns)\n",
    "temperature_data = pd.read_pickle('C:\\\\Users\\\\hppc\\\\Desktop\\\\GitHub\\\\wildfire_prediction\\\\data\\\\processed_data.pkl')"
   ],
   "metadata": {
    "collapsed": false,
    "pycharm": {
     "name": "#%%\n"
    }
   }
  },
  {
   "cell_type": "code",
   "execution_count": 3,
   "outputs": [
    {
     "name": "stdout",
     "output_type": "stream",
     "text": [
      "                      AREA PREFECTURE START_YEAR START_MONTH START_DAY  \\\n",
      "0                 ΚΡΥΟΝΕΡΙ    ΑΤΤΙΚΗΣ       2000          06        08   \n",
      "1          ΑΓΡ.ΠΕΡ.ΑΦΙΔΝΩΝ    ΑΤΤΙΚΗΣ       2000          06        05   \n",
      "2                   ΚΑΡΕΑΣ    ΑΤΤΙΚΗΣ       2000          06        14   \n",
      "3  ΝΕΚΡΟΤΑΦΕΙΟ ΚΑΙΣΑΡΙΑΝΗΣ    ΑΤΤΙΚΗΣ       2000          07        23   \n",
      "4   ΔΡΟΣΟΠΟΥΛΟΥ ΑΝΩ ΛΙΟΣΙΑ    ΑΤΤΙΚΗΣ       2000          10        04   \n",
      "\n",
      "  START_HOUR START_MINUTE START_TIME  FOREST_AREA  \n",
      "0         13           30   13:30:00          3.0  \n",
      "1         11           44   11:44:00          0.0  \n",
      "2         10           25   10:25:00          2.0  \n",
      "3         11           10   11:10:00          2.0  \n",
      "4         14           40   14:40:00          0.0  \n"
     ]
    }
   ],
   "source": [
    "\n",
    "print(fire_data.head())"
   ],
   "metadata": {
    "collapsed": false,
    "pycharm": {
     "name": "#%%\n"
    }
   }
  },
  {
   "cell_type": "code",
   "execution_count": 4,
   "outputs": [],
   "source": [
    "areas = {\n",
    "    'ΑΙΤΩΛΟΑΚΑΡΝΑΝΙΑΣ':\t'AGRINION AIRPORT, GR',\n",
    "    'ΑΡΓΟΛΙΔΟΣ':\t'NAFPLION, GR',\n",
    "    'ΑΡΚΑΔΙΑΣ':\t'TRIPOLIS, GR',\n",
    "    'ΑΡΤΑΣ':\t'ARTA HALKIADES, GR',\n",
    "    'ΑΤΤΙΚΗΣ':\t'ATHINAI, GR',\n",
    "    'ΑΧΑΙΑΣ':\t'PATRAI, GR',\n",
    "    'ΒΟΙΩΤΙΑΣ':\t'ALIARTOS, GR',\n",
    "    'ΓΡΕΒΕΝΩΝ':\t'TRIKALA, GR',\n",
    "    'ΔΡΑΜΑΣ':\t'EDESSA, GR',\n",
    "    'ΔΩΔΕΚΑΝΗΣΩΝ':\t'KOS, GR',\n",
    "    'ΕΥΡΥΤΑΝΙΑΣ':\t'AGRINION AIRPORT, GR',\n",
    "    'ΗΛΕΙΑΣ':\t'ANDRAVIDA, GR',\n",
    "    'ΗΜΑΘΙΑΣ':\t'MAKEDONIA, GR',\n",
    "    'ΗΡΑΚΛΕΙΟΥ':\t'NIKOS KAZANTZAKIS, GR',\n",
    "    'ΘΕΣΠΡΩΤΙΑΣ':\t'ARTA HALKIADES, GR',\n",
    "    'ΘΕΣΣΑΛΟΝΙΚΗΣ':\t'MAKEDONIA, GR',\n",
    "    'ΙΩΑΝΝΙΝΩΝ':\t'IOANNINA AIRPORT, GR',\n",
    "    'ΚΑΒΑΛΑΣ':\t'MEGAS ALEXANDROS INTERNATIONAL, GR',\n",
    "    'ΚΑΡΔΙΤΣΑΣ':\t'LARISA, GR',\n",
    "    'ΚΑΣΤΟΡΙΑΣ':\t'FLORINA, GR',\n",
    "    'ΚΕΡΚΥΡΑΣ':\t'ARTA HALKIADES, GR',\n",
    "    'ΚΕΦΑΛΛΟΝΙΑΣ':\t'KEFALLINIA, GR',\n",
    "    'ΚΙΛΚΙΣ':\t'MAKEDONIA, GR',\n",
    "    'ΚΟΖΑΝΗΣ':\t'FLORINA, GR',\n",
    "    'ΛΑΡΙΣΑΣ':\t'LARISA, GR',\n",
    "    'ΛΑΣΙΘΙΟΥ':\t'IERAPETRA, GR',\n",
    "    'ΛΕΥΚΑΔΟΣ':\t'KEFALLINIA, GR',\n",
    "    'ΜΕΣΣΗΝΙΑΣ':\t'METHONI, GR',\n",
    "    'ΞΑΝΘΗΣ':\t'EDESSA, GR',\n",
    "    'ΠΙΕΡΙΑΣ':\t'LARISA, GR',\n",
    "    'ΠΡΕΒΕΖΗΣ':\t'AGRINION AIRPORT, GR',\n",
    "    'ΡΕΘΥΜΝΟΥ':\t'RETHYMNON, GR',\n",
    "    'ΡΟΔΟΠΗΣ':\t'KOMOTINI, GR',\n",
    "    'ΤΡΙΚΑΛΩΝ':\t'TRIKALA, GR',\n",
    "    'ΦΛΩΡΙΝΑΣ':\t'FLORINA, GR',\n",
    "    'ΦΩΚΙΔΟΣ':\t'LAMIA, GR',\n",
    "    'ΧΑΝΙΩΝ':\t'SOUDA, GR',\n",
    "    'ΧΙΟΥ':\t'CHIOS, GR',\n",
    "    'ΧΑΛΚΙΔΙΚΗΣ': 'MAKEDONIA, GR',\n",
    "    'ΦΘΙΩΤΙΔΑΣ': 'LAMIA, GR',\n",
    "    'ΛΑΚΩΝΙΑΣ': 'KALAMATA, GR',\n",
    "    'ΣΕΡΡΩΝ': 'SERRAI, GR',\n",
    "    'ΕΒΡΟΥ':\t'MEGAS ALEXANDROS INTERNATIONAL, GR',\n",
    "    'ΣΑΜΟΥ': 'KOS, GR',\n",
    "    'ΕΥΒΟΙΑΣ': 'TANAGRA, GR',\n",
    "\t'ΠΕΛΛΑΣ': 'EDESSA, GR',\n",
    "\t'ΜΑΓΝΗΣΙΑΣ': 'NEA ANCHIALOS, GR',\n",
    "\t'ΚΟΡΙΝΘΙΑΣ': 'ELEFSIS, GR',\n",
    "\t'ΚΥΚΛΑΔΩΝ': 'CYCLADES ISLANDS, GR',\n",
    "\t'ΛΕΣΒΟΥ': 'MITILINI, GR',\n",
    "\t'ΖΑΚΥΝΘΟΥ': 'ZAKINTHOS, GR'\n",
    "}"
   ],
   "metadata": {
    "collapsed": false,
    "pycharm": {
     "name": "#%%\n"
    }
   }
  },
  {
   "cell_type": "code",
   "execution_count": 5,
   "outputs": [
    {
     "name": "stderr",
     "output_type": "stream",
     "text": [
      "c:\\users\\hppc\\appdata\\local\\programs\\python\\python37\\lib\\site-packages\\pandas\\core\\indexing.py:1637: SettingWithCopyWarning: \n",
      "A value is trying to be set on a copy of a slice from a DataFrame\n",
      "\n",
      "See the caveats in the documentation: https://pandas.pydata.org/pandas-docs/stable/user_guide/indexing.html#returning-a-view-versus-a-copy\n",
      "  self._setitem_single_block(indexer, value, name)\n"
     ]
    }
   ],
   "source": [
    "for i in range(0, 201948):\n",
    "    if areas.get(fire_data['PREFECTURE'].iloc[i]) is not None:\n",
    "        fire_data['PREFECTURE'].iloc[i] = areas.get(fire_data['PREFECTURE'].iloc[i])"
   ],
   "metadata": {
    "collapsed": false,
    "pycharm": {
     "name": "#%%\n"
    }
   }
  },
  {
   "cell_type": "code",
   "execution_count": 6,
   "outputs": [
    {
     "name": "stdout",
     "output_type": "stream",
     "text": [
      "0    ATHINAI, GR\n",
      "1    ATHINAI, GR\n",
      "2    ATHINAI, GR\n",
      "3    ATHINAI, GR\n",
      "4    ATHINAI, GR\n",
      "Name: PREFECTURE, dtype: object\n"
     ]
    }
   ],
   "source": [
    "print(fire_data['PREFECTURE'].head())"
   ],
   "metadata": {
    "collapsed": false,
    "pycharm": {
     "name": "#%%\n"
    }
   }
  },
  {
   "cell_type": "code",
   "execution_count": 7,
   "outputs": [
    {
     "name": "stdout",
     "output_type": "stream",
     "text": [
      "                      AREA   PREFECTURE START_YEAR START_MONTH START_DAY  \\\n",
      "0                 ΚΡΥΟΝΕΡΙ  ATHINAI, GR       2000          06        08   \n",
      "1          ΑΓΡ.ΠΕΡ.ΑΦΙΔΝΩΝ  ATHINAI, GR       2000          06        05   \n",
      "2                   ΚΑΡΕΑΣ  ATHINAI, GR       2000          06        14   \n",
      "3  ΝΕΚΡΟΤΑΦΕΙΟ ΚΑΙΣΑΡΙΑΝΗΣ  ATHINAI, GR       2000          07        23   \n",
      "4   ΔΡΟΣΟΠΟΥΛΟΥ ΑΝΩ ΛΙΟΣΙΑ  ATHINAI, GR       2000          10        04   \n",
      "\n",
      "  START_HOUR START_MINUTE START_TIME  FOREST_AREA  \n",
      "0         13           30   13:30:00          3.0  \n",
      "1         11           44   11:44:00          0.0  \n",
      "2         10           25   10:25:00          2.0  \n",
      "3         11           10   11:10:00          2.0  \n",
      "4         14           40   14:40:00          0.0  \n"
     ]
    }
   ],
   "source": [
    "print(fire_data.head())"
   ],
   "metadata": {
    "collapsed": false,
    "pycharm": {
     "name": "#%%\n"
    }
   }
  },
  {
   "cell_type": "code",
   "execution_count": 8,
   "outputs": [
    {
     "name": "stdout",
     "output_type": "stream",
     "text": [
      "LARISA, GR                            21350\n",
      "MAKEDONIA, GR                         14841\n",
      "AGRINION AIRPORT, GR                  12618\n",
      "EDESSA, GR                            11650\n",
      "ANDRAVIDA, GR                         11555\n",
      "PATRAI, GR                             9318\n",
      "METHONI, GR                            8676\n",
      "ARTA HALKIADES, GR                     8109\n",
      "MEGAS ALEXANDROS INTERNATIONAL, GR     8088\n",
      "FLORINA, GR                            6705\n",
      "SERRAI, GR                             6045\n",
      "TANAGRA, GR                            5355\n",
      "LAMIA, GR                              5325\n",
      "NIKOS KAZANTZAKIS, GR                  5266\n",
      "ELEFSIS, GR                            5100\n",
      "KEFALLINIA, GR                         5073\n",
      "ATHINAI, GR                            4965\n",
      "NAFPLION, GR                           4403\n",
      "KALAMATA, GR                           4362\n",
      "KOMOTINI, GR                           4090\n",
      "TRIKALA, GR                            4001\n",
      "SOUDA, GR                              3962\n",
      "TRIPOLIS, GR                           3783\n",
      "IOANNINA AIRPORT, GR                   3489\n",
      "RETHYMNON, GR                          3473\n",
      "ALIARTOS, GR                           3401\n",
      "KOS, GR                                3094\n",
      "NEA ANCHIALOS, GR                      2760\n",
      "MITILINI, GR                           2547\n",
      "CYCLADES ISLANDS, GR                   2524\n",
      "IERAPETRA, GR                          2493\n",
      "ZAKINTHOS, GR                          2473\n",
      "CHIOS, GR                              1045\n",
      "ΖΑΚΥΝΘΟΥ                                  1\n",
      "Name: PREFECTURE, dtype: int64\n"
     ]
    }
   ],
   "source": [
    "print(fire_data['PREFECTURE'].value_counts())"
   ],
   "metadata": {
    "collapsed": false,
    "pycharm": {
     "name": "#%%\n"
    }
   }
  },
  {
   "cell_type": "code",
   "execution_count": 9,
   "outputs": [
    {
     "name": "stdout",
     "output_type": "stream",
     "text": [
      "9\n"
     ]
    }
   ],
   "source": [
    "print(fire_data['PREFECTURE'].isna().sum())"
   ],
   "metadata": {
    "collapsed": false,
    "pycharm": {
     "name": "#%%\n"
    }
   }
  },
  {
   "cell_type": "code",
   "execution_count": null,
   "outputs": [],
   "source": [
    "print(temperature_data.head())"
   ],
   "metadata": {
    "collapsed": false,
    "pycharm": {
     "name": "#%%\n"
    }
   }
  },
  {
   "cell_type": "code",
   "execution_count": 10,
   "outputs": [],
   "source": [
    "merged_df = pd.merge(fire_data, temperature_data,  how='right',\n",
    "                     left_on=['START_YEAR', 'START_MONTH', 'START_DAY', 'START_HOUR', 'PREFECTURE'],\n",
    "                     right_on=['YEAR', 'MONTH', 'DAY', 'HOUR', 'NAME'])"
   ],
   "metadata": {
    "collapsed": false,
    "pycharm": {
     "name": "#%%\n"
    }
   }
  },
  {
   "cell_type": "code",
   "execution_count": 11,
   "outputs": [],
   "source": [
    "standard_df = merged_df"
   ],
   "metadata": {
    "collapsed": false,
    "pycharm": {
     "name": "#%%\n"
    }
   }
  },
  {
   "cell_type": "code",
   "execution_count": 12,
   "outputs": [
    {
     "data": {
      "text/plain": "1    8301163\n9     185118\n5      28454\n2        161\nName: WIND_SPEED_VALID, dtype: int64"
     },
     "execution_count": 12,
     "metadata": {},
     "output_type": "execute_result"
    }
   ],
   "source": [
    "merged_df['WIND_SPEED_VALID'].value_counts()"
   ],
   "metadata": {
    "collapsed": false,
    "pycharm": {
     "name": "#%%\n"
    }
   }
  },
  {
   "cell_type": "code",
   "execution_count": 13,
   "outputs": [
    {
     "data": {
      "text/plain": "1    8450777\n9      32501\n5      28824\n2       2782\n6         12\nName: TEMPERATURE_VALID, dtype: int64"
     },
     "execution_count": 13,
     "metadata": {},
     "output_type": "execute_result"
    }
   ],
   "source": [
    "merged_df['TEMPERATURE_VALID'].value_counts()"
   ],
   "metadata": {
    "collapsed": false,
    "pycharm": {
     "name": "#%%\n"
    }
   }
  },
  {
   "cell_type": "code",
   "execution_count": 14,
   "outputs": [
    {
     "data": {
      "text/plain": "1    8426005\n9      55711\n5      28609\n2       4530\n6         41\nName: DEW_VALID, dtype: int64"
     },
     "execution_count": 14,
     "metadata": {},
     "output_type": "execute_result"
    }
   ],
   "source": [
    "merged_df['DEW_VALID'].value_counts()"
   ],
   "metadata": {
    "collapsed": false,
    "pycharm": {
     "name": "#%%\n"
    }
   }
  },
  {
   "cell_type": "code",
   "execution_count": 245,
   "outputs": [
    {
     "data": {
      "text/plain": "Index(['AREA', 'PREFECTURE', 'START_YEAR', 'START_MONTH', 'START_DAY',\n       'START_HOUR', 'START_MINUTE', 'START_TIME', 'FOREST_AREA', 'YEAR',\n       'MONTH', 'DAY', 'HOUR', 'MINUTE', 'LATITUDE', 'LONGITUDE', 'NAME',\n       'TEMPERATURE', 'TEMPERATURE_VALID', 'DIRECTION', 'WIND_VALID', 'CODE',\n       'SPEED', 'WIND_SPEED_VALID', 'DEW', 'DEW_VALID'],\n      dtype='object')"
     },
     "execution_count": 245,
     "metadata": {},
     "output_type": "execute_result"
    }
   ],
   "source": [
    "merged_df.columns"
   ],
   "metadata": {
    "collapsed": false,
    "pycharm": {
     "name": "#%%\n"
    }
   }
  },
  {
   "cell_type": "code",
   "execution_count": 243,
   "outputs": [
    {
     "data": {
      "text/plain": " 15.0    371922\n 16.0    365393\n 14.0    350896\n 17.0    346905\n 18.0    334083\n          ...  \n-22.0         1\n 42.9         1\n-16.2         1\n-16.5         1\n-13.6         1\nName: TEMPERATURE, Length: 610, dtype: int64"
     },
     "execution_count": 243,
     "metadata": {},
     "output_type": "execute_result"
    }
   ],
   "source": [
    "merged_df.loc[(merged_df['TEMPERATURE_VALID'] == '1')]['TEMPERATURE'].value_counts()"
   ],
   "metadata": {
    "collapsed": false,
    "pycharm": {
     "name": "#%%\n"
    }
   }
  },
  {
   "cell_type": "code",
   "execution_count": 244,
   "outputs": [
    {
     "data": {
      "text/plain": "0.0     1750916\n2.1      754601\n3.1      642764\n2.6      630336\n4.1      558895\n         ...   \n30.3          1\n40.0          1\n46.4          1\n11.9          1\n34.5          1\nName: SPEED, Length: 134, dtype: int64"
     },
     "execution_count": 244,
     "metadata": {},
     "output_type": "execute_result"
    }
   ],
   "source": [
    "merged_df.loc[(merged_df['TEMPERATURE_VALID'] == '1')]['SPEED'].value_counts()"
   ],
   "metadata": {
    "collapsed": false,
    "pycharm": {
     "name": "#%%\n"
    }
   }
  },
  {
   "cell_type": "code",
   "execution_count": null,
   "outputs": [],
   "source": [
    "print(merged_df.head(10))"
   ],
   "metadata": {
    "collapsed": false,
    "pycharm": {
     "name": "#%%\n"
    }
   }
  },
  {
   "cell_type": "code",
   "execution_count": null,
   "outputs": [],
   "source": [
    "print(merged_df['FOREST_AREA'].isna().sum())  # 8.354.766\n",
    "\n",
    "print(merged_df['FOREST_AREA'].notna().sum())  # 160.130"
   ],
   "metadata": {
    "collapsed": false,
    "pycharm": {
     "name": "#%%\n"
    }
   }
  },
  {
   "cell_type": "code",
   "execution_count": 15,
   "outputs": [],
   "source": [
    "merged_df = merged_df.loc[(merged_df['TEMPERATURE_VALID'] == '1')\n",
    "\t\t\t& (merged_df['WIND_SPEED_VALID'] == '1')\n",
    "\t\t\t& (merged_df['DEW_VALID'] == '1')\n",
    "            & (merged_df['SPEED'] > 0)]\n"
   ],
   "metadata": {
    "collapsed": false,
    "pycharm": {
     "name": "#%%\n"
    }
   }
  },
  {
   "cell_type": "code",
   "execution_count": 16,
   "outputs": [],
   "source": [
    "#merged_df = merged_df.sort_values('FOREST_AREA')"
   ],
   "metadata": {
    "collapsed": false,
    "pycharm": {
     "name": "#%%\n"
    }
   }
  },
  {
   "cell_type": "code",
   "execution_count": 17,
   "outputs": [
    {
     "name": "stderr",
     "output_type": "stream",
     "text": [
      "c:\\users\\hppc\\appdata\\local\\programs\\python\\python37\\lib\\site-packages\\ipykernel_launcher.py:1: SettingWithCopyWarning: \n",
      "A value is trying to be set on a copy of a slice from a DataFrame.\n",
      "Try using .loc[row_indexer,col_indexer] = value instead\n",
      "\n",
      "See the caveats in the documentation: https://pandas.pydata.org/pandas-docs/stable/user_guide/indexing.html#returning-a-view-versus-a-copy\n",
      "  \"\"\"Entry point for launching an IPython kernel.\n"
     ]
    }
   ],
   "source": [
    "merged_df['FOREST_AREA'] = merged_df['FOREST_AREA'].fillna(-1)"
   ],
   "metadata": {
    "collapsed": false,
    "pycharm": {
     "name": "#%%\n"
    }
   }
  },
  {
   "cell_type": "code",
   "execution_count": 18,
   "outputs": [
    {
     "name": "stdout",
     "output_type": "stream",
     "text": [
      "                              AREA     PREFECTURE START_YEAR START_MONTH  \\\n",
      "4374     18 ΧΙΛ.Ε.Ο.ΕΥΖΩΝΩΝ-ΑΘΗΝΑΣ  MAKEDONIA, GR       2000          03   \n",
      "4380              ΑΓΙΑΣ ΠΑΡΑΣΚΕΥΗΣ  MAKEDONIA, GR       2000          03   \n",
      "4408                   Σ.Σ.ΜΟΥΡΙΩΝ  MAKEDONIA, GR       2000          03   \n",
      "4538  ΠΕΝΤΑΛΟΦΟΣ, ΘΕΣΗ ΑΓΡΙΟΜΗΛΙΕΣ  MAKEDONIA, GR       2000          03   \n",
      "4539  ΠΕΝΤΑΛΟΦΟΣ, ΘΕΣΗ ΑΓΡΙΟΜΗΛΙΕΣ  MAKEDONIA, GR       2000          03   \n",
      "\n",
      "     START_DAY START_HOUR START_MINUTE START_TIME  FOREST_AREA  YEAR  ...  \\\n",
      "4374        01         11           29   11:29:00          0.0  2000  ...   \n",
      "4380        01         16           09   16:09:00          0.0  2000  ...   \n",
      "4408        02         13           44   13:44:00          0.0  2000  ...   \n",
      "4538        06         16           00   16:00:00          1.0  2000  ...   \n",
      "4539        06         16           00   16:00:00          1.0  2000  ...   \n",
      "\n",
      "               NAME TEMPERATURE TEMPERATURE_VALID DIRECTION  WIND_VALID  CODE  \\\n",
      "4374  MAKEDONIA, GR         9.0                 1       300           1     N   \n",
      "4380  MAKEDONIA, GR         9.0                 1       170           1     N   \n",
      "4408  MAKEDONIA, GR        18.0                 1       150           1     N   \n",
      "4538  MAKEDONIA, GR         8.0                 1       320           1     N   \n",
      "4539  MAKEDONIA, GR         8.0                 1       330           1     N   \n",
      "\n",
      "     SPEED  WIND_SPEED_VALID  DEW DEW_VALID  \n",
      "4374   3.1                 1  2.0         1  \n",
      "4380   3.6                 1  0.0         1  \n",
      "4408   6.7                 1  7.0         1  \n",
      "4538   7.2                 1 -6.0         1  \n",
      "4539   9.3                 1 -6.0         1  \n",
      "\n",
      "[5 rows x 26 columns]\n"
     ]
    }
   ],
   "source": [
    "fire_df = merged_df.loc[merged_df['FOREST_AREA'] >= 0]\n",
    "print(fire_df.head())"
   ],
   "metadata": {
    "collapsed": false,
    "pycharm": {
     "name": "#%%\n"
    }
   }
  },
  {
   "cell_type": "code",
   "execution_count": 19,
   "outputs": [
    {
     "data": {
      "text/plain": "         FOREST_AREA       LATITUDE      LONGITUDE    TEMPERATURE  \\\ncount  128046.000000  128046.000000  128046.000000  128046.000000   \nmean       15.196538      38.564800      23.271009      23.659407   \nstd       739.184818       1.766408       1.596849       7.064612   \nmin         0.000000      35.339719      20.500481      -5.000000   \n25%         0.000000      37.783333      22.465500      19.000000   \n50%         0.000000      38.339847      22.970950      25.000000   \n75%         0.000000      40.519725      24.149678      29.000000   \nmax    100000.000000      41.066667      27.091667      45.000000   \n\n               SPEED            DEW  \ncount  128046.000000  128046.000000  \nmean        4.412970      11.883347  \nstd         2.241915       5.967379  \nmin         0.500000     -17.000000  \n25%         2.600000       8.200000  \n50%         4.100000      12.900000  \n75%         5.700000      16.000000  \nmax        25.700000      28.000000  ",
      "text/html": "<div>\n<style scoped>\n    .dataframe tbody tr th:only-of-type {\n        vertical-align: middle;\n    }\n\n    .dataframe tbody tr th {\n        vertical-align: top;\n    }\n\n    .dataframe thead th {\n        text-align: right;\n    }\n</style>\n<table border=\"1\" class=\"dataframe\">\n  <thead>\n    <tr style=\"text-align: right;\">\n      <th></th>\n      <th>FOREST_AREA</th>\n      <th>LATITUDE</th>\n      <th>LONGITUDE</th>\n      <th>TEMPERATURE</th>\n      <th>SPEED</th>\n      <th>DEW</th>\n    </tr>\n  </thead>\n  <tbody>\n    <tr>\n      <th>count</th>\n      <td>128046.000000</td>\n      <td>128046.000000</td>\n      <td>128046.000000</td>\n      <td>128046.000000</td>\n      <td>128046.000000</td>\n      <td>128046.000000</td>\n    </tr>\n    <tr>\n      <th>mean</th>\n      <td>15.196538</td>\n      <td>38.564800</td>\n      <td>23.271009</td>\n      <td>23.659407</td>\n      <td>4.412970</td>\n      <td>11.883347</td>\n    </tr>\n    <tr>\n      <th>std</th>\n      <td>739.184818</td>\n      <td>1.766408</td>\n      <td>1.596849</td>\n      <td>7.064612</td>\n      <td>2.241915</td>\n      <td>5.967379</td>\n    </tr>\n    <tr>\n      <th>min</th>\n      <td>0.000000</td>\n      <td>35.339719</td>\n      <td>20.500481</td>\n      <td>-5.000000</td>\n      <td>0.500000</td>\n      <td>-17.000000</td>\n    </tr>\n    <tr>\n      <th>25%</th>\n      <td>0.000000</td>\n      <td>37.783333</td>\n      <td>22.465500</td>\n      <td>19.000000</td>\n      <td>2.600000</td>\n      <td>8.200000</td>\n    </tr>\n    <tr>\n      <th>50%</th>\n      <td>0.000000</td>\n      <td>38.339847</td>\n      <td>22.970950</td>\n      <td>25.000000</td>\n      <td>4.100000</td>\n      <td>12.900000</td>\n    </tr>\n    <tr>\n      <th>75%</th>\n      <td>0.000000</td>\n      <td>40.519725</td>\n      <td>24.149678</td>\n      <td>29.000000</td>\n      <td>5.700000</td>\n      <td>16.000000</td>\n    </tr>\n    <tr>\n      <th>max</th>\n      <td>100000.000000</td>\n      <td>41.066667</td>\n      <td>27.091667</td>\n      <td>45.000000</td>\n      <td>25.700000</td>\n      <td>28.000000</td>\n    </tr>\n  </tbody>\n</table>\n</div>"
     },
     "execution_count": 19,
     "metadata": {},
     "output_type": "execute_result"
    }
   ],
   "source": [
    "fire_df.describe()"
   ],
   "metadata": {
    "collapsed": false,
    "pycharm": {
     "name": "#%%\n"
    }
   }
  },
  {
   "cell_type": "code",
   "execution_count": 20,
   "outputs": [],
   "source": [
    "nonfire_df_1 = merged_df.loc[(merged_df['FOREST_AREA'] < 0) & (merged_df['TEMPERATURE'] < 18)]"
   ],
   "metadata": {
    "collapsed": false,
    "pycharm": {
     "name": "#%%\n"
    }
   }
  },
  {
   "cell_type": "code",
   "execution_count": 21,
   "outputs": [],
   "source": [
    "#nonfire_df_2 = merged_df.loc[(merged_df['FOREST_AREA'] < 0) & (merged_df['TEMPERATURE'] >= 18) % (merged_df['SPEED'] >= 2)]\n",
    "nonfire_df_2 = merged_df.loc[(merged_df['FOREST_AREA'] < 0) & (merged_df['TEMPERATURE'] >= 18)]"
   ],
   "metadata": {
    "collapsed": false,
    "pycharm": {
     "name": "#%%\n"
    }
   }
  },
  {
   "cell_type": "code",
   "execution_count": 15,
   "outputs": [],
   "source": [
    "#nonfire_df_2.count()"
   ],
   "metadata": {
    "collapsed": false,
    "pycharm": {
     "name": "#%%\n"
    }
   }
  },
  {
   "cell_type": "code",
   "execution_count": 16,
   "outputs": [
    {
     "data": {
      "text/plain": "(128046, 26)"
     },
     "execution_count": 16,
     "metadata": {},
     "output_type": "execute_result"
    }
   ],
   "source": [
    "fire_df.shape"
   ],
   "metadata": {
    "collapsed": false,
    "pycharm": {
     "name": "#%%\n"
    }
   }
  },
  {
   "cell_type": "code",
   "execution_count": 22,
   "outputs": [],
   "source": [
    "nonfire_df_1 = nonfire_df_1[:150000]"
   ],
   "metadata": {
    "collapsed": false,
    "pycharm": {
     "name": "#%%\n"
    }
   }
  },
  {
   "cell_type": "code",
   "execution_count": 23,
   "outputs": [],
   "source": [
    "nonfire_df_2 = nonfire_df_2[:250000]"
   ],
   "metadata": {
    "collapsed": false,
    "pycharm": {
     "name": "#%%\n"
    }
   }
  },
  {
   "cell_type": "code",
   "execution_count": 24,
   "outputs": [],
   "source": [
    "nonfire_df = nonfire_df_1.append(nonfire_df_2, ignore_index=True)"
   ],
   "metadata": {
    "collapsed": false,
    "pycharm": {
     "name": "#%%\n"
    }
   }
  },
  {
   "cell_type": "code",
   "execution_count": 20,
   "outputs": [
    {
     "data": {
      "text/plain": "Index(['AREA', 'PREFECTURE', 'START_YEAR', 'START_MONTH', 'START_DAY',\n       'START_HOUR', 'START_MINUTE', 'START_TIME', 'FOREST_AREA', 'YEAR',\n       'MONTH', 'DAY', 'HOUR', 'MINUTE', 'LATITUDE', 'LONGITUDE', 'NAME',\n       'TEMPERATURE', 'TEMPERATURE_VALID', 'DIRECTION', 'WIND_VALID', 'CODE',\n       'SPEED', 'WIND_SPEED_VALID', 'DEW', 'DEW_VALID'],\n      dtype='object')"
     },
     "execution_count": 20,
     "metadata": {},
     "output_type": "execute_result"
    }
   ],
   "source": [
    "nonfire_df.columns\n",
    "fire_df.columns"
   ],
   "metadata": {
    "collapsed": false,
    "pycharm": {
     "name": "#%%\n"
    }
   }
  },
  {
   "cell_type": "code",
   "execution_count": 21,
   "outputs": [],
   "source": [
    "#nonfire_df.drop(columns=['AREA', 'LATITUDE', 'LONGITUDE', 'CODE', 'MONTH', 'DAY', 'HOUR', 'MINUTE', 'FOREST_AREA', 'YEAR'])\n",
    "#fire_df.drop(columns=['AREA', 'LATITUDE', 'LONGITUDE', 'CODE', 'MONTH', 'DAY', 'HOUR', 'MINUTE', 'FOREST_AREA', 'YEAR'])\n"
   ],
   "metadata": {
    "collapsed": false,
    "pycharm": {
     "name": "#%%\n"
    }
   }
  },
  {
   "cell_type": "code",
   "execution_count": 25,
   "outputs": [],
   "source": [
    "nonfire_df = nonfire_df.drop(['YEAR',\n",
    "       'MONTH', 'DAY', 'HOUR', 'MINUTE', 'LATITUDE', 'LONGITUDE', 'NAME',\n",
    "        'TEMPERATURE_VALID', 'WIND_VALID', 'CODE',\n",
    "        'WIND_SPEED_VALID', 'DEW_VALID'], axis=1)\n",
    "\n",
    "fire_df = fire_df.drop(['YEAR',\n",
    "       'MONTH', 'DAY', 'HOUR', 'MINUTE', 'LATITUDE', 'LONGITUDE', 'NAME',\n",
    "        'TEMPERATURE_VALID', 'WIND_VALID', 'CODE',\n",
    "        'WIND_SPEED_VALID', 'DEW_VALID'], axis=1)"
   ],
   "metadata": {
    "collapsed": false,
    "pycharm": {
     "name": "#%%\n"
    }
   }
  },
  {
   "cell_type": "code",
   "execution_count": 26,
   "outputs": [],
   "source": [
    "nonfire_df['START_MINUTE'] = nonfire_df['START_MINUTE'].str.replace('9-', '00')\n",
    "fire_df['START_MINUTE'] = fire_df['START_MINUTE'].str.replace('9-', '00')"
   ],
   "metadata": {
    "collapsed": false,
    "pycharm": {
     "name": "#%%\n"
    }
   }
  },
  {
   "cell_type": "code",
   "execution_count": 27,
   "outputs": [],
   "source": [
    "nonfire_df[['FOREST_AREA', 'TEMPERATURE',\t'DIRECTION', 'SPEED', 'DEW']] = nonfire_df[['FOREST_AREA', 'TEMPERATURE',\t'DIRECTION', 'SPEED', 'DEW']].astype(float)\n",
    "fire_df[['FOREST_AREA', 'TEMPERATURE',\t'DIRECTION', 'SPEED', 'DEW']] = fire_df[['FOREST_AREA', 'TEMPERATURE',\t'DIRECTION', 'SPEED', 'DEW']].astype(float)"
   ],
   "metadata": {
    "collapsed": false,
    "pycharm": {
     "name": "#%%\n"
    }
   }
  },
  {
   "cell_type": "code",
   "execution_count": 28,
   "outputs": [
    {
     "data": {
      "text/plain": "Index(['AREA', 'PREFECTURE', 'START_YEAR', 'START_MONTH', 'START_DAY',\n       'START_HOUR', 'START_MINUTE', 'START_TIME', 'FOREST_AREA',\n       'TEMPERATURE', 'DIRECTION', 'SPEED', 'DEW'],\n      dtype='object')"
     },
     "execution_count": 28,
     "metadata": {},
     "output_type": "execute_result"
    }
   ],
   "source": [
    "nonfire_df.columns"
   ],
   "metadata": {
    "collapsed": false,
    "pycharm": {
     "name": "#%%\n"
    }
   }
  },
  {
   "cell_type": "code",
   "execution_count": 29,
   "outputs": [],
   "source": [
    "nonfire_df = nonfire_df.drop(columns= ['AREA', 'PREFECTURE', 'START_YEAR', 'START_MONTH', 'START_DAY',\n",
    "                                'START_HOUR', 'START_MINUTE', 'START_TIME', 'DIRECTION'])\n",
    "fire_df = fire_df.drop(columns= ['AREA', 'PREFECTURE', 'START_YEAR', 'START_MONTH', 'START_DAY',\n",
    "                                'START_HOUR', 'START_MINUTE', 'START_TIME', 'DIRECTION'])"
   ],
   "metadata": {
    "collapsed": false,
    "pycharm": {
     "name": "#%%\n"
    }
   }
  },
  {
   "cell_type": "code",
   "execution_count": 30,
   "outputs": [
    {
     "data": {
      "text/plain": "   FOREST_AREA  TEMPERATURE  SPEED  DEW\n0         -1.0         -3.2    3.1 -4.3\n1         -1.0         12.2    4.1 -6.6\n2         -1.0         -1.7    0.5 -7.1\n3         -1.0         13.0    2.1  8.7\n4         -1.0          4.3    3.1  2.1",
      "text/html": "<div>\n<style scoped>\n    .dataframe tbody tr th:only-of-type {\n        vertical-align: middle;\n    }\n\n    .dataframe tbody tr th {\n        vertical-align: top;\n    }\n\n    .dataframe thead th {\n        text-align: right;\n    }\n</style>\n<table border=\"1\" class=\"dataframe\">\n  <thead>\n    <tr style=\"text-align: right;\">\n      <th></th>\n      <th>FOREST_AREA</th>\n      <th>TEMPERATURE</th>\n      <th>SPEED</th>\n      <th>DEW</th>\n    </tr>\n  </thead>\n  <tbody>\n    <tr>\n      <th>0</th>\n      <td>-1.0</td>\n      <td>-3.2</td>\n      <td>3.1</td>\n      <td>-4.3</td>\n    </tr>\n    <tr>\n      <th>1</th>\n      <td>-1.0</td>\n      <td>12.2</td>\n      <td>4.1</td>\n      <td>-6.6</td>\n    </tr>\n    <tr>\n      <th>2</th>\n      <td>-1.0</td>\n      <td>-1.7</td>\n      <td>0.5</td>\n      <td>-7.1</td>\n    </tr>\n    <tr>\n      <th>3</th>\n      <td>-1.0</td>\n      <td>13.0</td>\n      <td>2.1</td>\n      <td>8.7</td>\n    </tr>\n    <tr>\n      <th>4</th>\n      <td>-1.0</td>\n      <td>4.3</td>\n      <td>3.1</td>\n      <td>2.1</td>\n    </tr>\n  </tbody>\n</table>\n</div>"
     },
     "execution_count": 30,
     "metadata": {},
     "output_type": "execute_result"
    }
   ],
   "source": [
    "nonfire_df.head()"
   ],
   "metadata": {
    "collapsed": false,
    "pycharm": {
     "name": "#%%\n"
    }
   }
  },
  {
   "cell_type": "code",
   "execution_count": 31,
   "outputs": [
    {
     "name": "stdout",
     "output_type": "stream",
     "text": [
      "       FOREST_AREA    TEMPERATURE          SPEED            DEW\n",
      "count     400000.0  400000.000000  400000.000000  400000.000000\n",
      "mean          -1.0      19.452233       4.891119      11.740039\n",
      "std            0.0       7.623838       2.728098       6.436645\n",
      "min           -1.0     -13.000000       0.500000     -20.000000\n",
      "25%           -1.0      14.000000       3.100000       8.000000\n",
      "50%           -1.0      20.000000       4.100000      12.900000\n",
      "75%           -1.0      25.000000       6.200000      16.800000\n",
      "max           -1.0      45.000000      39.100000      30.000000\n"
     ]
    }
   ],
   "source": [
    "print(nonfire_df.describe())"
   ],
   "metadata": {
    "collapsed": false,
    "pycharm": {
     "name": "#%%\n"
    }
   }
  },
  {
   "cell_type": "code",
   "execution_count": 32,
   "outputs": [
    {
     "name": "stdout",
     "output_type": "stream",
     "text": [
      "         FOREST_AREA    TEMPERATURE          SPEED            DEW\n",
      "count  128046.000000  128046.000000  128046.000000  128046.000000\n",
      "mean       15.196538      23.659407       4.412970      11.883347\n",
      "std       739.184818       7.064612       2.241915       5.967379\n",
      "min         0.000000      -5.000000       0.500000     -17.000000\n",
      "25%         0.000000      19.000000       2.600000       8.200000\n",
      "50%         0.000000      25.000000       4.100000      12.900000\n",
      "75%         0.000000      29.000000       5.700000      16.000000\n",
      "max    100000.000000      45.000000      25.700000      28.000000\n"
     ]
    }
   ],
   "source": [
    "print(fire_df.describe())"
   ],
   "metadata": {
    "collapsed": false,
    "pycharm": {
     "name": "#%%\n"
    }
   }
  },
  {
   "cell_type": "code",
   "execution_count": 33,
   "outputs": [
    {
     "data": {
      "text/plain": "         FOREST_AREA  TEMPERATURE        SPEED          DEW\ncount    3714.000000  3714.000000  3714.000000  3714.000000\nmean      514.667421    26.197577     4.885110    12.452127\nstd      4311.111952     6.529255     2.425107     5.632833\nmin        10.800000     4.000000     0.500000   -11.500000\n25%        20.000000    22.000000     3.100000     9.000000\n50%        40.000000    27.000000     4.600000    13.000000\n75%       110.000000    31.000000     6.200000    17.000000\nmax    100000.000000    44.000000    19.000000    28.000000",
      "text/html": "<div>\n<style scoped>\n    .dataframe tbody tr th:only-of-type {\n        vertical-align: middle;\n    }\n\n    .dataframe tbody tr th {\n        vertical-align: top;\n    }\n\n    .dataframe thead th {\n        text-align: right;\n    }\n</style>\n<table border=\"1\" class=\"dataframe\">\n  <thead>\n    <tr style=\"text-align: right;\">\n      <th></th>\n      <th>FOREST_AREA</th>\n      <th>TEMPERATURE</th>\n      <th>SPEED</th>\n      <th>DEW</th>\n    </tr>\n  </thead>\n  <tbody>\n    <tr>\n      <th>count</th>\n      <td>3714.000000</td>\n      <td>3714.000000</td>\n      <td>3714.000000</td>\n      <td>3714.000000</td>\n    </tr>\n    <tr>\n      <th>mean</th>\n      <td>514.667421</td>\n      <td>26.197577</td>\n      <td>4.885110</td>\n      <td>12.452127</td>\n    </tr>\n    <tr>\n      <th>std</th>\n      <td>4311.111952</td>\n      <td>6.529255</td>\n      <td>2.425107</td>\n      <td>5.632833</td>\n    </tr>\n    <tr>\n      <th>min</th>\n      <td>10.800000</td>\n      <td>4.000000</td>\n      <td>0.500000</td>\n      <td>-11.500000</td>\n    </tr>\n    <tr>\n      <th>25%</th>\n      <td>20.000000</td>\n      <td>22.000000</td>\n      <td>3.100000</td>\n      <td>9.000000</td>\n    </tr>\n    <tr>\n      <th>50%</th>\n      <td>40.000000</td>\n      <td>27.000000</td>\n      <td>4.600000</td>\n      <td>13.000000</td>\n    </tr>\n    <tr>\n      <th>75%</th>\n      <td>110.000000</td>\n      <td>31.000000</td>\n      <td>6.200000</td>\n      <td>17.000000</td>\n    </tr>\n    <tr>\n      <th>max</th>\n      <td>100000.000000</td>\n      <td>44.000000</td>\n      <td>19.000000</td>\n      <td>28.000000</td>\n    </tr>\n  </tbody>\n</table>\n</div>"
     },
     "execution_count": 33,
     "metadata": {},
     "output_type": "execute_result"
    }
   ],
   "source": [
    "fire_df.loc[(fire_df['FOREST_AREA'] > 10)].describe()"
   ],
   "metadata": {
    "collapsed": false,
    "pycharm": {
     "name": "#%%\n"
    }
   }
  },
  {
   "cell_type": "code",
   "execution_count": 31,
   "outputs": [],
   "source": [
    "working_balanced_df = fire_df.append(nonfire_df, ignore_index=True)"
   ],
   "metadata": {
    "collapsed": false,
    "pycharm": {
     "name": "#%%\n"
    }
   }
  },
  {
   "cell_type": "code",
   "execution_count": 32,
   "outputs": [
    {
     "data": {
      "text/plain": "0.5"
     },
     "execution_count": 32,
     "metadata": {},
     "output_type": "execute_result"
    }
   ],
   "source": [
    "working_balanced_df['SPEED'].min()"
   ],
   "metadata": {
    "collapsed": false,
    "pycharm": {
     "name": "#%%\n"
    }
   }
  },
  {
   "cell_type": "code",
   "execution_count": 33,
   "outputs": [],
   "source": [
    "working_balanced_df.to_pickle('working_balanced_df.pkl')"
   ],
   "metadata": {
    "collapsed": false,
    "pycharm": {
     "name": "#%%\n"
    }
   }
  },
  {
   "cell_type": "code",
   "execution_count": null,
   "outputs": [],
   "source": [
    "\n",
    "\n",
    "\n",
    "\n",
    "\n",
    "\n",
    "\n",
    "\n",
    "\n",
    "\n",
    "\n",
    "\n",
    "\n",
    "\n",
    "\n",
    "\n",
    "\n",
    "\n",
    "\n",
    "\n",
    "\n",
    "#merged_df = merged_df[:320260]"
   ],
   "metadata": {
    "collapsed": false,
    "pycharm": {
     "name": "#%%\n"
    }
   }
  },
  {
   "cell_type": "code",
   "execution_count": 9,
   "outputs": [
    {
     "name": "stdout",
     "output_type": "stream",
     "text": [
      "8514896\n",
      "8354766\n",
      "160130\n"
     ]
    }
   ],
   "source": [
    "print(merged_df.shape[0])\n",
    "\n",
    "print(merged_df['FOREST_AREA'].isna().sum())  # 8.354.766\n",
    "\n",
    "print(merged_df['FOREST_AREA'].notna().sum())"
   ],
   "metadata": {
    "collapsed": false,
    "pycharm": {
     "name": "#%%\n"
    }
   }
  },
  {
   "cell_type": "code",
   "execution_count": null,
   "outputs": [],
   "source": [
    "print(merged_df.columns)"
   ],
   "metadata": {
    "collapsed": false,
    "pycharm": {
     "name": "#%%\n"
    }
   }
  },
  {
   "cell_type": "code",
   "execution_count": 10,
   "outputs": [
    {
     "data": {
      "text/plain": "                PREFECTURE START_YEAR START_MONTH START_DAY START_HOUR  \\\n4374         MAKEDONIA, GR       2000          03        01         11   \n5101294  NEA ANCHIALOS, GR       2013          09        26         13   \n5101292  NEA ANCHIALOS, GR       2013          09        26         13   \n5101190  NEA ANCHIALOS, GR       2013          09        23         23   \n5101186  NEA ANCHIALOS, GR       2013          09        23         19   \n...                    ...        ...         ...       ...        ...   \n8514891                NaN        NaN         NaN       NaN        NaN   \n8514892                NaN        NaN         NaN       NaN        NaN   \n8514893                NaN        NaN         NaN       NaN        NaN   \n8514894                NaN        NaN         NaN       NaN        NaN   \n8514895                NaN        NaN         NaN       NaN        NaN   \n\n        START_MINUTE START_TIME                   NAME  TEMPERATURE  \\\n4374              29   11:29:00          MAKEDONIA, GR          9.0   \n5101294           10      13:10      NEA ANCHIALOS, GR         27.0   \n5101292           10      13:10      NEA ANCHIALOS, GR         27.0   \n5101190           00      23:00      NEA ANCHIALOS, GR         14.0   \n5101186           50      19:50      NEA ANCHIALOS, GR         14.0   \n...              ...        ...                    ...          ...   \n8514891          NaN        NaN  KARPATHOS AIRPORT, GR         13.0   \n8514892          NaN        NaN  KARPATHOS AIRPORT, GR         14.2   \n8514893          NaN        NaN  KARPATHOS AIRPORT, GR         15.2   \n8514894          NaN        NaN  KARPATHOS AIRPORT, GR         14.0   \n8514895          NaN        NaN  KARPATHOS AIRPORT, GR         13.4   \n\n        TEMPERATURE_VALID DIRECTION WIND_VALID  SPEED WIND_SPEED_VALID   DEW  \\\n4374                    1       300          1    3.1                1   2.0   \n5101294                 1       100          1    5.1                1  16.0   \n5101292                 1       080          1    5.7                1  12.0   \n5101190                 1       240          1    2.1                1   8.0   \n5101186                 1       260          1    2.1                1   8.0   \n...                   ...       ...        ...    ...              ...   ...   \n8514891                 1       310          1    5.1                1   9.0   \n8514892                 1       290          1    7.2                1  10.5   \n8514893                 1       330          1    7.2                1   8.6   \n8514894                 1       340          1    5.1                1   8.9   \n8514895                 1       320          1    6.2                1   8.6   \n\n        DEW_VALID  \n4374            1  \n5101294         1  \n5101292         1  \n5101190         1  \n5101186         1  \n...           ...  \n8514891         1  \n8514892         1  \n8514893         1  \n8514894         1  \n8514895         1  \n\n[8514896 rows x 16 columns]",
      "text/html": "<div>\n<style scoped>\n    .dataframe tbody tr th:only-of-type {\n        vertical-align: middle;\n    }\n\n    .dataframe tbody tr th {\n        vertical-align: top;\n    }\n\n    .dataframe thead th {\n        text-align: right;\n    }\n</style>\n<table border=\"1\" class=\"dataframe\">\n  <thead>\n    <tr style=\"text-align: right;\">\n      <th></th>\n      <th>PREFECTURE</th>\n      <th>START_YEAR</th>\n      <th>START_MONTH</th>\n      <th>START_DAY</th>\n      <th>START_HOUR</th>\n      <th>START_MINUTE</th>\n      <th>START_TIME</th>\n      <th>NAME</th>\n      <th>TEMPERATURE</th>\n      <th>TEMPERATURE_VALID</th>\n      <th>DIRECTION</th>\n      <th>WIND_VALID</th>\n      <th>SPEED</th>\n      <th>WIND_SPEED_VALID</th>\n      <th>DEW</th>\n      <th>DEW_VALID</th>\n    </tr>\n  </thead>\n  <tbody>\n    <tr>\n      <th>4374</th>\n      <td>MAKEDONIA, GR</td>\n      <td>2000</td>\n      <td>03</td>\n      <td>01</td>\n      <td>11</td>\n      <td>29</td>\n      <td>11:29:00</td>\n      <td>MAKEDONIA, GR</td>\n      <td>9.0</td>\n      <td>1</td>\n      <td>300</td>\n      <td>1</td>\n      <td>3.1</td>\n      <td>1</td>\n      <td>2.0</td>\n      <td>1</td>\n    </tr>\n    <tr>\n      <th>5101294</th>\n      <td>NEA ANCHIALOS, GR</td>\n      <td>2013</td>\n      <td>09</td>\n      <td>26</td>\n      <td>13</td>\n      <td>10</td>\n      <td>13:10</td>\n      <td>NEA ANCHIALOS, GR</td>\n      <td>27.0</td>\n      <td>1</td>\n      <td>100</td>\n      <td>1</td>\n      <td>5.1</td>\n      <td>1</td>\n      <td>16.0</td>\n      <td>1</td>\n    </tr>\n    <tr>\n      <th>5101292</th>\n      <td>NEA ANCHIALOS, GR</td>\n      <td>2013</td>\n      <td>09</td>\n      <td>26</td>\n      <td>13</td>\n      <td>10</td>\n      <td>13:10</td>\n      <td>NEA ANCHIALOS, GR</td>\n      <td>27.0</td>\n      <td>1</td>\n      <td>080</td>\n      <td>1</td>\n      <td>5.7</td>\n      <td>1</td>\n      <td>12.0</td>\n      <td>1</td>\n    </tr>\n    <tr>\n      <th>5101190</th>\n      <td>NEA ANCHIALOS, GR</td>\n      <td>2013</td>\n      <td>09</td>\n      <td>23</td>\n      <td>23</td>\n      <td>00</td>\n      <td>23:00</td>\n      <td>NEA ANCHIALOS, GR</td>\n      <td>14.0</td>\n      <td>1</td>\n      <td>240</td>\n      <td>1</td>\n      <td>2.1</td>\n      <td>1</td>\n      <td>8.0</td>\n      <td>1</td>\n    </tr>\n    <tr>\n      <th>5101186</th>\n      <td>NEA ANCHIALOS, GR</td>\n      <td>2013</td>\n      <td>09</td>\n      <td>23</td>\n      <td>19</td>\n      <td>50</td>\n      <td>19:50</td>\n      <td>NEA ANCHIALOS, GR</td>\n      <td>14.0</td>\n      <td>1</td>\n      <td>260</td>\n      <td>1</td>\n      <td>2.1</td>\n      <td>1</td>\n      <td>8.0</td>\n      <td>1</td>\n    </tr>\n    <tr>\n      <th>...</th>\n      <td>...</td>\n      <td>...</td>\n      <td>...</td>\n      <td>...</td>\n      <td>...</td>\n      <td>...</td>\n      <td>...</td>\n      <td>...</td>\n      <td>...</td>\n      <td>...</td>\n      <td>...</td>\n      <td>...</td>\n      <td>...</td>\n      <td>...</td>\n      <td>...</td>\n      <td>...</td>\n    </tr>\n    <tr>\n      <th>8514891</th>\n      <td>NaN</td>\n      <td>NaN</td>\n      <td>NaN</td>\n      <td>NaN</td>\n      <td>NaN</td>\n      <td>NaN</td>\n      <td>NaN</td>\n      <td>KARPATHOS AIRPORT, GR</td>\n      <td>13.0</td>\n      <td>1</td>\n      <td>310</td>\n      <td>1</td>\n      <td>5.1</td>\n      <td>1</td>\n      <td>9.0</td>\n      <td>1</td>\n    </tr>\n    <tr>\n      <th>8514892</th>\n      <td>NaN</td>\n      <td>NaN</td>\n      <td>NaN</td>\n      <td>NaN</td>\n      <td>NaN</td>\n      <td>NaN</td>\n      <td>NaN</td>\n      <td>KARPATHOS AIRPORT, GR</td>\n      <td>14.2</td>\n      <td>1</td>\n      <td>290</td>\n      <td>1</td>\n      <td>7.2</td>\n      <td>1</td>\n      <td>10.5</td>\n      <td>1</td>\n    </tr>\n    <tr>\n      <th>8514893</th>\n      <td>NaN</td>\n      <td>NaN</td>\n      <td>NaN</td>\n      <td>NaN</td>\n      <td>NaN</td>\n      <td>NaN</td>\n      <td>NaN</td>\n      <td>KARPATHOS AIRPORT, GR</td>\n      <td>15.2</td>\n      <td>1</td>\n      <td>330</td>\n      <td>1</td>\n      <td>7.2</td>\n      <td>1</td>\n      <td>8.6</td>\n      <td>1</td>\n    </tr>\n    <tr>\n      <th>8514894</th>\n      <td>NaN</td>\n      <td>NaN</td>\n      <td>NaN</td>\n      <td>NaN</td>\n      <td>NaN</td>\n      <td>NaN</td>\n      <td>NaN</td>\n      <td>KARPATHOS AIRPORT, GR</td>\n      <td>14.0</td>\n      <td>1</td>\n      <td>340</td>\n      <td>1</td>\n      <td>5.1</td>\n      <td>1</td>\n      <td>8.9</td>\n      <td>1</td>\n    </tr>\n    <tr>\n      <th>8514895</th>\n      <td>NaN</td>\n      <td>NaN</td>\n      <td>NaN</td>\n      <td>NaN</td>\n      <td>NaN</td>\n      <td>NaN</td>\n      <td>NaN</td>\n      <td>KARPATHOS AIRPORT, GR</td>\n      <td>13.4</td>\n      <td>1</td>\n      <td>320</td>\n      <td>1</td>\n      <td>6.2</td>\n      <td>1</td>\n      <td>8.6</td>\n      <td>1</td>\n    </tr>\n  </tbody>\n</table>\n<p>8514896 rows × 16 columns</p>\n</div>"
     },
     "execution_count": 10,
     "metadata": {},
     "output_type": "execute_result"
    }
   ],
   "source": [
    "merged_df.drop(columns=['AREA', 'LATITUDE', 'LONGITUDE', 'CODE', 'MONTH', 'DAY', 'HOUR', 'MINUTE', 'FOREST_AREA', 'YEAR'])"
   ],
   "metadata": {
    "collapsed": false,
    "pycharm": {
     "name": "#%%\n"
    }
   }
  },
  {
   "cell_type": "code",
   "execution_count": null,
   "outputs": [],
   "source": [
    "print(merged_df.columns)"
   ],
   "metadata": {
    "collapsed": false,
    "pycharm": {
     "name": "#%%\n"
    }
   }
  },
  {
   "cell_type": "code",
   "execution_count": null,
   "outputs": [],
   "source": [
    "print(merged_df['TEMPERATURE_VALID'].value_counts())\n",
    "print(merged_df['WIND_VALID'].value_counts())\n",
    "print(merged_df['WIND_SPEED_VALID'].value_counts())\n",
    "print(merged_df['DEW_VALID'].value_counts())"
   ],
   "metadata": {
    "collapsed": false,
    "pycharm": {
     "name": "#%%\n"
    }
   }
  },
  {
   "cell_type": "code",
   "execution_count": null,
   "outputs": [],
   "source": [
    "print(fire_data.isna().sum())\n",
    "print(temperature_data.isna().sum())"
   ],
   "metadata": {
    "collapsed": false,
    "pycharm": {
     "name": "#%%\n"
    }
   }
  },
  {
   "cell_type": "code",
   "execution_count": null,
   "outputs": [],
   "source": [
    "print(fire_data['START_HOUR'].value_counts())\n",
    "print(fire_data['START_DAY'].value_counts())\n",
    "print(fire_data['START_MONTH'].value_counts())\n",
    "print(fire_data['START_YEAR'].value_counts())"
   ],
   "metadata": {
    "collapsed": false,
    "pycharm": {
     "name": "#%%"
    }
   }
  },
  {
   "cell_type": "code",
   "execution_count": null,
   "outputs": [],
   "source": [
    "print(temperature_data['HOUR'].value_counts())\n",
    "print(temperature_data['DAY'].value_counts())\n",
    "print(temperature_data['MONTH'].value_counts())\n",
    "print(temperature_data['YEAR'].value_counts())"
   ],
   "metadata": {
    "collapsed": false,
    "pycharm": {
     "name": "#%%\n"
    }
   }
  },
  {
   "cell_type": "code",
   "execution_count": null,
   "outputs": [],
   "source": [
    "final_df = merged_df.loc[(merged_df['TEMPERATURE_VALID'] == '1')\n",
    "\t\t\t& (merged_df['WIND_SPEED_VALID'] == '1')\n",
    "\t\t\t& (merged_df['DEW_VALID'] == '1')]"
   ],
   "metadata": {
    "collapsed": false,
    "pycharm": {
     "name": "#%%\n"
    }
   }
  },
  {
   "cell_type": "code",
   "execution_count": null,
   "outputs": [],
   "source": [
    "final_df.head()"
   ],
   "metadata": {
    "collapsed": false,
    "pycharm": {
     "name": "#%%\n"
    }
   }
  },
  {
   "cell_type": "code",
   "execution_count": null,
   "outputs": [],
   "source": [
    "final_df.columns"
   ],
   "metadata": {
    "collapsed": false,
    "pycharm": {
     "name": "#%%\n"
    }
   }
  },
  {
   "cell_type": "code",
   "execution_count": null,
   "outputs": [],
   "source": [
    "final_df = final_df.drop(['YEAR',\n",
    "       'MONTH', 'DAY', 'HOUR', 'MINUTE', 'LATITUDE', 'LONGITUDE', 'NAME',\n",
    "        'TEMPERATURE_VALID', 'WIND_VALID', 'CODE',\n",
    "        'WIND_SPEED_VALID', 'DEW_VALID'], axis=1)"
   ],
   "metadata": {
    "collapsed": false,
    "pycharm": {
     "name": "#%%\n"
    }
   }
  },
  {
   "cell_type": "code",
   "execution_count": null,
   "outputs": [],
   "source": [
    "final_df.head()"
   ],
   "metadata": {
    "collapsed": false,
    "pycharm": {
     "name": "#%%\n"
    }
   }
  },
  {
   "cell_type": "code",
   "execution_count": null,
   "outputs": [],
   "source": [
    "working_df = final_df[['TEMPERATURE', 'SPEED', 'DEW', 'FOREST_AREA']]"
   ],
   "metadata": {
    "collapsed": false,
    "pycharm": {
     "name": "#%%\n"
    }
   }
  },
  {
   "cell_type": "code",
   "execution_count": null,
   "outputs": [],
   "source": [
    "print(working_df['FOREST_AREA'].isna().sum())  # 8.354.766\n",
    "print(working_df['FOREST_AREA'].notna().sum())\n",
    "\n",
    "print(working_df['TEMPERATURE'].isna().sum())  # 8.354.766\n",
    "print(working_df['TEMPERATURE'].notna().sum())\n",
    "\n",
    "print(working_df['SPEED'].isna().sum())  # 8.354.766\n",
    "print(working_df['SPEED'].notna().sum())\n",
    "\n",
    "print(working_df['DEW'].isna().sum())  # 8.354.766\n",
    "print(working_df['DEW'].notna().sum())"
   ],
   "metadata": {
    "collapsed": false,
    "pycharm": {
     "name": "#%%\n"
    }
   }
  },
  {
   "cell_type": "code",
   "execution_count": null,
   "outputs": [],
   "source": [
    "final_df.columns"
   ],
   "metadata": {
    "collapsed": false,
    "pycharm": {
     "name": "#%%\n"
    }
   }
  },
  {
   "cell_type": "code",
   "execution_count": null,
   "outputs": [],
   "source": [
    "final_df['START_YEAR'].unique()"
   ],
   "metadata": {
    "collapsed": false,
    "pycharm": {
     "name": "#%%\n"
    }
   }
  },
  {
   "cell_type": "code",
   "execution_count": null,
   "outputs": [],
   "source": [
    "final_df['START_MONTH'].unique()"
   ],
   "metadata": {
    "collapsed": false,
    "pycharm": {
     "name": "#%%\n"
    }
   }
  },
  {
   "cell_type": "code",
   "execution_count": null,
   "outputs": [],
   "source": [
    "final_df['START_DAY'].unique()"
   ],
   "metadata": {
    "collapsed": false,
    "pycharm": {
     "name": "#%%\n"
    }
   }
  },
  {
   "cell_type": "code",
   "execution_count": null,
   "outputs": [],
   "source": [
    "final_df['START_HOUR'].unique()"
   ],
   "metadata": {
    "collapsed": false,
    "pycharm": {
     "name": "#%%\n"
    }
   }
  },
  {
   "cell_type": "code",
   "execution_count": null,
   "outputs": [],
   "source": [
    "final_df['START_MINUTE'].unique()"
   ],
   "metadata": {
    "collapsed": false,
    "pycharm": {
     "name": "#%%\n"
    }
   }
  },
  {
   "cell_type": "code",
   "execution_count": null,
   "outputs": [],
   "source": [
    "final_df['START_MINUTE'] = final_df['START_MINUTE'].str.replace('9-', '00')\n"
   ],
   "metadata": {
    "collapsed": false,
    "pycharm": {
     "name": "#%%\n"
    }
   }
  },
  {
   "cell_type": "code",
   "execution_count": null,
   "outputs": [],
   "source": [
    "final_df['START_MINUTE'].unique()\n"
   ],
   "metadata": {
    "collapsed": false,
    "pycharm": {
     "name": "#%%\n"
    }
   }
  },
  {
   "cell_type": "code",
   "execution_count": null,
   "outputs": [],
   "source": [
    "\n",
    "final_df[['START_YEAR', 'START_MONTH', 'START_DAY', 'START_HOUR', 'START_MINUTE']] = final_df[['START_YEAR', 'START_MONTH', 'START_DAY', 'START_HOUR', 'START_MINUTE']].astype(int)"
   ],
   "metadata": {
    "collapsed": false,
    "pycharm": {
     "name": "#%%\n"
    }
   }
  },
  {
   "cell_type": "code",
   "execution_count": null,
   "outputs": [],
   "source": [
    "final_df[['FOREST_AREA', 'TEMPERATURE',\t'DIRECTION', 'SPEED', 'DEW']] = final_df[['FOREST_AREA', 'TEMPERATURE',\t'DIRECTION', 'SPEED', 'DEW']].astype(float)\n"
   ],
   "metadata": {
    "collapsed": false,
    "pycharm": {
     "name": "#%%\n"
    }
   }
  },
  {
   "cell_type": "code",
   "execution_count": null,
   "outputs": [],
   "source": [
    "final_df['PREFECTURE'].unique()"
   ],
   "metadata": {
    "collapsed": false,
    "pycharm": {
     "name": "#%%\n"
    }
   }
  },
  {
   "cell_type": "code",
   "execution_count": null,
   "outputs": [],
   "source": [
    "final_df.info()"
   ],
   "metadata": {
    "collapsed": false,
    "pycharm": {
     "name": "#%%\n"
    }
   }
  },
  {
   "cell_type": "code",
   "execution_count": null,
   "outputs": [],
   "source": [
    "final_df.head()"
   ],
   "metadata": {
    "collapsed": false,
    "pycharm": {
     "name": "#%%\n"
    }
   }
  },
  {
   "cell_type": "code",
   "execution_count": null,
   "outputs": [],
   "source": [
    "#final_df.to_pickle('final_dataframe.pkl')"
   ],
   "metadata": {
    "collapsed": false,
    "pycharm": {
     "name": "#%%\n"
    }
   }
  },
  {
   "cell_type": "code",
   "execution_count": null,
   "outputs": [],
   "source": [
    "fire_data['PREFECTURE'].unique()"
   ],
   "metadata": {
    "collapsed": false,
    "pycharm": {
     "name": "#%%\n"
    }
   }
  },
  {
   "cell_type": "code",
   "execution_count": null,
   "outputs": [],
   "source": [
    "print(fire_data['PREFECTURE'].value_counts())"
   ],
   "metadata": {
    "collapsed": false,
    "pycharm": {
     "name": "#%%\n"
    }
   }
  },
  {
   "cell_type": "code",
   "execution_count": null,
   "outputs": [],
   "source": [
    "final_df = final_df[final_df['PREFECTURE'] != 'ΖΑΚΥΝΘΟΥ']"
   ],
   "metadata": {
    "collapsed": false,
    "pycharm": {
     "name": "#%%\n"
    }
   }
  },
  {
   "cell_type": "code",
   "execution_count": null,
   "outputs": [],
   "source": [
    "print(final_df['PREFECTURE'].value_counts())"
   ],
   "metadata": {
    "collapsed": false,
    "pycharm": {
     "name": "#%%\n"
    }
   }
  },
  {
   "cell_type": "code",
   "execution_count": null,
   "outputs": [],
   "source": [
    "#final_df.to_pickle('final_dataframe.pkl')\n"
   ],
   "metadata": {
    "collapsed": false,
    "pycharm": {
     "name": "#%%\n"
    }
   }
  },
  {
   "cell_type": "code",
   "execution_count": null,
   "outputs": [],
   "source": [
    "\n",
    "print(final_df.head(10))"
   ],
   "metadata": {
    "collapsed": false,
    "pycharm": {
     "name": "#%%\n"
    }
   }
  },
  {
   "cell_type": "code",
   "execution_count": null,
   "outputs": [],
   "source": [
    "working_df = final_df[['TEMPERATURE', 'SPEED', 'DEW', 'FOREST_AREA']]\n"
   ],
   "metadata": {
    "collapsed": false,
    "pycharm": {
     "name": "#%%\n"
    }
   }
  },
  {
   "cell_type": "code",
   "execution_count": null,
   "outputs": [],
   "source": [
    "working_df['FOREST_AREA'] = working_df['FOREST_AREA'].fillna(-1)"
   ],
   "metadata": {
    "collapsed": false,
    "pycharm": {
     "name": "#%%\n"
    }
   }
  },
  {
   "cell_type": "code",
   "execution_count": null,
   "outputs": [],
   "source": [
    "print(working_df['FOREST_AREA'].isna().sum())  # 8.354.766\n",
    "print(working_df['FOREST_AREA'].notna().sum())"
   ],
   "metadata": {
    "collapsed": false,
    "pycharm": {
     "name": "#%%\n"
    }
   }
  },
  {
   "cell_type": "code",
   "execution_count": null,
   "outputs": [],
   "source": [
    "working_df.to_pickle('last_working_df.pkl')"
   ],
   "metadata": {
    "collapsed": false,
    "pycharm": {
     "name": "#%%\n"
    }
   }
  },
  {
   "cell_type": "code",
   "execution_count": null,
   "outputs": [],
   "source": [],
   "metadata": {
    "collapsed": false,
    "pycharm": {
     "name": "#%%\n"
    }
   }
  }
 ],
 "metadata": {
  "kernelspec": {
   "display_name": "Python 3",
   "language": "python",
   "name": "python3"
  },
  "language_info": {
   "codemirror_mode": {
    "name": "ipython",
    "version": 2
   },
   "file_extension": ".py",
   "mimetype": "text/x-python",
   "name": "python",
   "nbconvert_exporter": "python",
   "pygments_lexer": "ipython2",
   "version": "2.7.6"
  }
 },
 "nbformat": 4,
 "nbformat_minor": 0
}